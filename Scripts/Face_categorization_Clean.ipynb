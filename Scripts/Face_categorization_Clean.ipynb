{
 "cells": [
  {
   "cell_type": "code",
   "execution_count": 22,
   "metadata": {},
   "outputs": [],
   "source": [
    "# eeg analysis libraries\n",
    "import mne\n",
    "from scipy import io\n",
    "from neurodsp import spectral\n",
    "from neurodsp.plts.spectral import plot_spectral_hist\n",
    "\n",
    "import pkg_resources\n",
    "\n",
    "import ssvepy\n",
    "\n",
    "from ssvepy import Ssvep, load_ssvep\n",
    "from ssvepy import frequencymaths\n",
    "\n",
    "__version__ = pkg_resources.get_distribution(\"ssvepy\").version\n",
    "\n",
    "\n",
    "# import plotting libraries\n",
    "from matplotlib import pyplot as plt  \n",
    "import seaborn as sns\n",
    "from plotnine import *\n",
    "\n",
    "# numerical libraries\n",
    "import numpy as np\n",
    "import pandas as pd\n",
    "from pandas.plotting import table \n",
    "import imgkit\n",
    "\n",
    "# import tqdm for a progress bar:\n",
    "try:\n",
    "    from tqdm import tqdm_notebook as tqdm\n",
    "except:\n",
    "    from tqdm import tqdm\n",
    "    \n",
    "# import file path operators\n",
    "from pathlib import Path\n",
    "import os\n",
    "import six\n",
    "\n",
    "# avoid MNE being too verbose\n",
    "mne.set_log_level('ERROR')"
   ]
  },
  {
   "cell_type": "code",
   "execution_count": 23,
   "metadata": {},
   "outputs": [
    {
     "name": "stdout",
     "output_type": "stream",
     "text": [
      "/Data2/EEG/Data/EEG_SSVEP_Faces_OB_renamed/EG-CTR-1022-Face_Categorisation.bdf\n",
      "/Data2/EEG/Data/EEG_SSVEP_Faces_OB_renamed/EG-CTR-1012-Face_Categorisation.bdf\n",
      "/Data2/EEG/Data/EEG_SSVEP_Faces_OB_renamed/EG-CTR-1002-Face_Categorisation.bdf\n",
      "/Data2/EEG/Data/EEG_SSVEP_Faces_OB_renamed/EG-CTR-1007-Face_Categorisation.bdf\n",
      "/Data2/EEG/Data/EEG_SSVEP_Faces_OB_renamed/EG-CTR-1025-Face_Categorisation.bdf\n",
      "/Data2/EEG/Data/EEG_SSVEP_Faces_OB_renamed/EG-CTR-1011-Face_Categorisation.bdf\n",
      "/Data2/EEG/Data/EEG_SSVEP_Faces_OB_renamed/EG-CTR-1018-Face_Categorisation.bdf\n",
      "/Data2/EEG/Data/EEG_SSVEP_Faces_OB_renamed/EG-CTR-1035-Face_Categorisation.bdf\n",
      "/Data2/EEG/Data/EEG_SSVEP_Faces_OB_renamed/EG-CTR-1023-Face_Categorisation.bdf\n",
      "/Data2/EEG/Data/EEG_SSVEP_Faces_OB_renamed/EG-CTR-1026-Face_Categorisation.bdf\n",
      "/Data2/EEG/Data/EEG_SSVEP_Faces_OB_renamed/EG-CTR-1033-Face_Categorisation.bdf\n",
      "/Data2/EEG/Data/EEG_SSVEP_Faces_OB_renamed/EG-CTR-1021-Face_Categorisation.bdf\n",
      "/Data2/EEG/Data/EEG_SSVEP_Faces_OB_renamed/EG-CTR-1014-Face_Categorisation.bdf\n",
      "/Data2/EEG/Data/EEG_SSVEP_Faces_OB_renamed/EG-CTR-1036-Face_Categorisation.bdf\n",
      "/Data2/EEG/Data/EEG_SSVEP_Faces_OB_renamed/EG-CTR-1028-Face_Categorisation.bdf\n",
      "/Data2/EEG/Data/EEG_SSVEP_Faces_OB_renamed/EG-CTR-1010-Face_Categorisation.bdf\n",
      "/Data2/EEG/Data/EEG_SSVEP_Faces_OB_renamed/EG-CTR-1016-Face_Categorisation.bdf\n",
      "/Data2/EEG/Data/EEG_SSVEP_Faces_OB_renamed/EG-CTR-1020-Face_Categorisation.bdf\n",
      "/Data2/EEG/Data/EEG_SSVEP_Faces_OB_renamed/EG-CTR-1029-Face_Categorisation.bdf\n",
      "/Data2/EEG/Data/EEG_SSVEP_Faces_OB_renamed/EG-CTR-1030-Face_Categorisation.bdf\n",
      "/Data2/EEG/Data/EEG_SSVEP_Faces_OB_renamed/EG-CTR-1004-Face_Categorisation.bdf\n",
      "/Data2/EEG/Data/EEG_SSVEP_Faces_OB_renamed/EG-CTR-1034-Face_Categorisation.bdf\n",
      "/Data2/EEG/Data/EEG_SSVEP_Faces_OB_renamed/EG-CTR-1006-Face_Categorisation.bdf\n",
      "/Data2/EEG/Data/EEG_SSVEP_Faces_OB_renamed/EG-CTR-1017-Face_Categorisation.bdf\n",
      "/Data2/EEG/Data/EEG_SSVEP_Faces_OB_renamed/EG-CTR-1027-Face_Categorisation.bdf\n",
      "/Data2/EEG/Data/EEG_SSVEP_Faces_OB_renamed/EG-CTR-1024-Face_Categorisation.bdf\n",
      "/Data2/EEG/Data/EEG_SSVEP_Faces_OB_renamed/EG-CTR-1008-Face_Categorisation.bdf\n",
      "/Data2/EEG/Data/EEG_SSVEP_Faces_OB_renamed/EG-CTR-1015-Face_Categorisation.bdf\n",
      "/Data2/EEG/Data/EEG_SSVEP_Faces_OB_renamed/EG-CTR-1019-Face_Categorisation.bdf\n",
      "/Data2/EEG/Data/EEG_SSVEP_Faces_OB_renamed/EG-CTR-1005-Face_Categorisation.bdf\n",
      "/Data2/EEG/Data/EEG_SSVEP_Faces_OB_renamed/EG-CTR-1009-Face_Categorisation.bdf\n",
      "/Data2/EEG/Data/EEG_SSVEP_Faces_OB_renamed/EG-CTR-1031-Face_Categorisation.bdf\n"
     ]
    }
   ],
   "source": [
    "datafolder = Path('/Data2/EEG/Data/EEG_SSVEP_Faces_OB_renamed')\n",
    "datafiles = list(datafolder.glob(pattern='*Categorisation.bdf'))\n",
    "group = [f.name[3:6] for f in datafiles]\n",
    "pids = [f.name[7:11] for f in datafiles]\n",
    "#print(group)\n",
    "files = os.listdir(datafolder)\n",
    "for name in datafiles:\n",
    "    print(name)"
   ]
  },
  {
   "cell_type": "code",
   "execution_count": 24,
   "metadata": {},
   "outputs": [
    {
     "data": {
      "application/vnd.jupyter.widget-view+json": {
       "model_id": "7a3971ecf8b0456793d973822a1a6f03",
       "version_major": 2,
       "version_minor": 0
      },
      "text/plain": [
       "HBox(children=(IntProgress(value=0, max=32), HTML(value='')))"
      ]
     },
     "metadata": {},
     "output_type": "display_data"
    }
   ],
   "source": [
    "datadicts = []\n",
    "electrodes_snr = []\n",
    "ssveps = []\n",
    "snrs_faces = []\n",
    "snrs_ob = []\n",
    "Report_pp = []\n",
    "\n",
    "for file in tqdm(datafiles):\n",
    "    raw = mne.io.read_raw_edf(\n",
    "        file, montage=mne.channels.read_montage('biosemi64'),preload=True,\n",
    "        eog=[f'EXG{n}' for n in range(1, 9)]\n",
    "    )\n",
    "    raw.info['subject_info'] = {\n",
    "        'pid': file.name[7:11],\n",
    "        'group': file.name[3:6],\n",
    "        'filename' :file.name\n",
    "    }\n",
    "    \n",
    "    events = mne.find_events(raw, stim_channel='STI 014')\n",
    "    events = events[events[:, 2] < 255, :]\n",
    "    \n",
    "    raw.info['events'] = events\n",
    "    #print(events[:5])\n",
    "    \n",
    "    #Apply Frequency Filter\n",
    "    raw.filter(0.5, 15)\n",
    "    \n",
    "    #Preprocessing, including demean and detrend.\n",
    "    #detrend=0 - constant detrending, detrend=1 linear detrending\n",
    "    epochs = mne.Epochs(\n",
    "        raw, events,\n",
    "        tmin=0, tmax=4, preload=True,\n",
    "        baseline=(None, None), detrend=0,\n",
    "    ).set_eeg_reference().load_data().apply_proj()\n",
    "    \n",
    "    evoked = epochs.average()\n",
    "\n",
    "    ssvep = ssvepy.Ssvep(epochs, [1.2, 6], compute_tfr=True)\n",
    "    \n",
    "    # Define electrodes: Occipital & All Electrodes\n",
    "    o_elecs = ['Oz', 'O1', 'O2', 'Iz']\n",
    "    occipital_elecs = mne.pick_channels(raw.ch_names, o_elecs)\n",
    "    \n",
    "    elecs = ['Fp1','AF7','AF3','F1','F3','F5','F7','FT7','FC5',\n",
    "             'FC3','FC1','C1','C3','C5','T7','TP7','CP5','CP3',\n",
    "             'CP1','P1','P3','P5','P7','P9','PO7','PO3','O1',\n",
    "             'Iz','Oz','POz','Pz','CPz','Fpz','Fp2','AF8','AF4',\n",
    "             'AFz','Fz','F2','F4','F6','F8','FT8','FC6','FC4',\n",
    "             'FC2','FCz','Cz','C2','C4','C6','T8','TP8','CP6',\n",
    "             'CP4','CP2','P2','P4','P6','P8','P10','PO8','PO4','O2',]\n",
    "    \n",
    "    all_elecs = mne.pick_channels(raw.ch_names, elecs)\n",
    "    \n",
    "    file_id = raw.info['subject_info']['filename']\n",
    "    \n",
    "    # Collect snrs for face and object frequency for all electrodes. \n",
    "    key = (len(elecs))\n",
    "    snrs_faces = []\n",
    "    snrs_ob = []\n",
    "    difference = []\n",
    "    \n",
    "    # use i as counter for electrodes\n",
    "    for i in range(key): \n",
    "        snrs_ob.insert(i,  ssvep.stimulation.snr.loc[:, elecs[i], 6].values.mean())\n",
    "        snrs_faces.insert(i, ssvep.stimulation.snr.loc[:, elecs[i], 1.2].values.mean())\n",
    "        dif = (snrs_faces[i] - snrs_ob[i] / snrs_faces[i] + snrs_ob[i])\n",
    "        difference.insert(i, dif)\n",
    "        \n",
    "    # Make Dataframe of the snrs for faces, for objects, and for the difference between these values per electrode. \n",
    "        \n",
    "    d = {'Electrodes': elecs, 'SNR Face': snrs_faces, 'SNR Object': snrs_ob, 'difference': difference,}\n",
    "    electrodes_snr = pd.DataFrame(data=d, index=elecs) \n",
    "    elecs_snr_sorted = electrodes_snr.sort_values(by=[\"SNR Face\"], ascending = False)\n",
    "    df = pd.DataFrame(elecs_snr_sorted).head(5)\n",
    "    top_electrodes = df.set_index(\"Electrodes\", drop = False)\n",
    "        \n",
    "    # Create dictionary for each file with results and collect them in datadicts. \n",
    "    Report_pp = {'pid': raw.info['subject_info']['pid'],\n",
    "         'group': raw.info['subject_info']['group'],\n",
    "         'filename': raw.info['subject_info']['filename'],\n",
    "         'ssvep': ssvep,\n",
    "         'Top Electrodes': top_electrodes,\n",
    "        \n",
    "    # index using the electrode strings, and the raw frequency value:\n",
    "         \n",
    "        'Objects': ssvep.stimulation.snr.loc[:, o_elecs , 6].mean().values,\n",
    "        'Faces': ssvep.stimulation.snr.loc[:, o_elecs , 1.2].mean().values,}\n",
    "    \n",
    "    datadicts.append(Report_pp) \n",
    "    pid = Report_pp['pid']\n",
    "    path = ('results_ssvep/all_electrodes/%s' %(file_id))\n",
    "    if not os.path.exists(path):\n",
    "        os.makedirs(path)\n",
    "        \n",
    "    # Save all electrodes to file \n",
    "    pd.DataFrame(electrodes_snr).to_csv('%s/all_electrodes_snrs_%s.csv' %(path, file_id));\n",
    "\n",
    "    \n",
    "    \n",
    "# save everything to a CSV file ##\n",
    "path = ('results_ssvep/occipital_electrodes')\n",
    "if not os.path.exists(path):\n",
    "    os.makedirs(path)\n",
    "pd.DataFrame(datadicts).to_csv('%s/occipital_electrodes_snrs.csv' %(path));"
   ]
  },
  {
   "cell_type": "code",
   "execution_count": 25,
   "metadata": {},
   "outputs": [
    {
     "name": "stderr",
     "output_type": "stream",
     "text": [
      "/home/richard/anaconda3/lib/python3.6/site-packages/matplotlib/pyplot.py:514: RuntimeWarning: More than 20 figures have been opened. Figures created through the pyplot interface (`matplotlib.pyplot.figure`) are retained until explicitly closed and may consume too much memory. (To control this warning, see the rcParam `figure.max_open_warning`).\n",
      "  max_open_warning, RuntimeWarning)\n",
      "/home/richard/anaconda3/lib/python3.6/site-packages/matplotlib/pyplot.py:514: RuntimeWarning: More than 20 figures have been opened. Figures created through the pyplot interface (`matplotlib.pyplot.figure`) are retained until explicitly closed and may consume too much memory. (To control this warning, see the rcParam `figure.max_open_warning`).\n",
      "  max_open_warning, RuntimeWarning)\n",
      "/home/richard/anaconda3/lib/python3.6/site-packages/matplotlib/pyplot.py:514: RuntimeWarning: More than 20 figures have been opened. Figures created through the pyplot interface (`matplotlib.pyplot.figure`) are retained until explicitly closed and may consume too much memory. (To control this warning, see the rcParam `figure.max_open_warning`).\n",
      "  max_open_warning, RuntimeWarning)\n",
      "/home/richard/anaconda3/lib/python3.6/site-packages/matplotlib/pyplot.py:514: RuntimeWarning: More than 20 figures have been opened. Figures created through the pyplot interface (`matplotlib.pyplot.figure`) are retained until explicitly closed and may consume too much memory. (To control this warning, see the rcParam `figure.max_open_warning`).\n",
      "  max_open_warning, RuntimeWarning)\n",
      "/home/richard/anaconda3/lib/python3.6/site-packages/matplotlib/pyplot.py:514: RuntimeWarning: More than 20 figures have been opened. Figures created through the pyplot interface (`matplotlib.pyplot.figure`) are retained until explicitly closed and may consume too much memory. (To control this warning, see the rcParam `figure.max_open_warning`).\n",
      "  max_open_warning, RuntimeWarning)\n",
      "/home/richard/anaconda3/lib/python3.6/site-packages/matplotlib/pyplot.py:514: RuntimeWarning: More than 20 figures have been opened. Figures created through the pyplot interface (`matplotlib.pyplot.figure`) are retained until explicitly closed and may consume too much memory. (To control this warning, see the rcParam `figure.max_open_warning`).\n",
      "  max_open_warning, RuntimeWarning)\n",
      "/home/richard/anaconda3/lib/python3.6/site-packages/matplotlib/pyplot.py:514: RuntimeWarning: More than 20 figures have been opened. Figures created through the pyplot interface (`matplotlib.pyplot.figure`) are retained until explicitly closed and may consume too much memory. (To control this warning, see the rcParam `figure.max_open_warning`).\n",
      "  max_open_warning, RuntimeWarning)\n",
      "/home/richard/anaconda3/lib/python3.6/site-packages/matplotlib/pyplot.py:514: RuntimeWarning: More than 20 figures have been opened. Figures created through the pyplot interface (`matplotlib.pyplot.figure`) are retained until explicitly closed and may consume too much memory. (To control this warning, see the rcParam `figure.max_open_warning`).\n",
      "  max_open_warning, RuntimeWarning)\n",
      "/home/richard/anaconda3/lib/python3.6/site-packages/matplotlib/pyplot.py:514: RuntimeWarning: More than 20 figures have been opened. Figures created through the pyplot interface (`matplotlib.pyplot.figure`) are retained until explicitly closed and may consume too much memory. (To control this warning, see the rcParam `figure.max_open_warning`).\n",
      "  max_open_warning, RuntimeWarning)\n",
      "/home/richard/anaconda3/lib/python3.6/site-packages/matplotlib/pyplot.py:514: RuntimeWarning: More than 20 figures have been opened. Figures created through the pyplot interface (`matplotlib.pyplot.figure`) are retained until explicitly closed and may consume too much memory. (To control this warning, see the rcParam `figure.max_open_warning`).\n",
      "  max_open_warning, RuntimeWarning)\n",
      "/home/richard/anaconda3/lib/python3.6/site-packages/matplotlib/pyplot.py:514: RuntimeWarning: More than 20 figures have been opened. Figures created through the pyplot interface (`matplotlib.pyplot.figure`) are retained until explicitly closed and may consume too much memory. (To control this warning, see the rcParam `figure.max_open_warning`).\n",
      "  max_open_warning, RuntimeWarning)\n",
      "/home/richard/anaconda3/lib/python3.6/site-packages/matplotlib/pyplot.py:514: RuntimeWarning: More than 20 figures have been opened. Figures created through the pyplot interface (`matplotlib.pyplot.figure`) are retained until explicitly closed and may consume too much memory. (To control this warning, see the rcParam `figure.max_open_warning`).\n",
      "  max_open_warning, RuntimeWarning)\n",
      "/home/richard/anaconda3/lib/python3.6/site-packages/matplotlib/pyplot.py:514: RuntimeWarning: More than 20 figures have been opened. Figures created through the pyplot interface (`matplotlib.pyplot.figure`) are retained until explicitly closed and may consume too much memory. (To control this warning, see the rcParam `figure.max_open_warning`).\n",
      "  max_open_warning, RuntimeWarning)\n",
      "/home/richard/anaconda3/lib/python3.6/site-packages/matplotlib/pyplot.py:514: RuntimeWarning: More than 20 figures have been opened. Figures created through the pyplot interface (`matplotlib.pyplot.figure`) are retained until explicitly closed and may consume too much memory. (To control this warning, see the rcParam `figure.max_open_warning`).\n",
      "  max_open_warning, RuntimeWarning)\n",
      "/home/richard/anaconda3/lib/python3.6/site-packages/matplotlib/pyplot.py:514: RuntimeWarning: More than 20 figures have been opened. Figures created through the pyplot interface (`matplotlib.pyplot.figure`) are retained until explicitly closed and may consume too much memory. (To control this warning, see the rcParam `figure.max_open_warning`).\n",
      "  max_open_warning, RuntimeWarning)\n",
      "/home/richard/anaconda3/lib/python3.6/site-packages/matplotlib/pyplot.py:514: RuntimeWarning: More than 20 figures have been opened. Figures created through the pyplot interface (`matplotlib.pyplot.figure`) are retained until explicitly closed and may consume too much memory. (To control this warning, see the rcParam `figure.max_open_warning`).\n",
      "  max_open_warning, RuntimeWarning)\n",
      "/home/richard/anaconda3/lib/python3.6/site-packages/matplotlib/pyplot.py:514: RuntimeWarning: More than 20 figures have been opened. Figures created through the pyplot interface (`matplotlib.pyplot.figure`) are retained until explicitly closed and may consume too much memory. (To control this warning, see the rcParam `figure.max_open_warning`).\n",
      "  max_open_warning, RuntimeWarning)\n",
      "/home/richard/anaconda3/lib/python3.6/site-packages/matplotlib/pyplot.py:514: RuntimeWarning: More than 20 figures have been opened. Figures created through the pyplot interface (`matplotlib.pyplot.figure`) are retained until explicitly closed and may consume too much memory. (To control this warning, see the rcParam `figure.max_open_warning`).\n",
      "  max_open_warning, RuntimeWarning)\n",
      "/home/richard/anaconda3/lib/python3.6/site-packages/matplotlib/pyplot.py:514: RuntimeWarning: More than 20 figures have been opened. Figures created through the pyplot interface (`matplotlib.pyplot.figure`) are retained until explicitly closed and may consume too much memory. (To control this warning, see the rcParam `figure.max_open_warning`).\n",
      "  max_open_warning, RuntimeWarning)\n",
      "/home/richard/anaconda3/lib/python3.6/site-packages/matplotlib/pyplot.py:514: RuntimeWarning: More than 20 figures have been opened. Figures created through the pyplot interface (`matplotlib.pyplot.figure`) are retained until explicitly closed and may consume too much memory. (To control this warning, see the rcParam `figure.max_open_warning`).\n",
      "  max_open_warning, RuntimeWarning)\n",
      "/home/richard/anaconda3/lib/python3.6/site-packages/matplotlib/pyplot.py:514: RuntimeWarning: More than 20 figures have been opened. Figures created through the pyplot interface (`matplotlib.pyplot.figure`) are retained until explicitly closed and may consume too much memory. (To control this warning, see the rcParam `figure.max_open_warning`).\n",
      "  max_open_warning, RuntimeWarning)\n",
      "/home/richard/anaconda3/lib/python3.6/site-packages/matplotlib/pyplot.py:514: RuntimeWarning: More than 20 figures have been opened. Figures created through the pyplot interface (`matplotlib.pyplot.figure`) are retained until explicitly closed and may consume too much memory. (To control this warning, see the rcParam `figure.max_open_warning`).\n",
      "  max_open_warning, RuntimeWarning)\n"
     ]
    },
    {
     "name": "stderr",
     "output_type": "stream",
     "text": [
      "/home/richard/anaconda3/lib/python3.6/site-packages/matplotlib/pyplot.py:514: RuntimeWarning: More than 20 figures have been opened. Figures created through the pyplot interface (`matplotlib.pyplot.figure`) are retained until explicitly closed and may consume too much memory. (To control this warning, see the rcParam `figure.max_open_warning`).\n",
      "  max_open_warning, RuntimeWarning)\n",
      "/home/richard/anaconda3/lib/python3.6/site-packages/matplotlib/pyplot.py:514: RuntimeWarning: More than 20 figures have been opened. Figures created through the pyplot interface (`matplotlib.pyplot.figure`) are retained until explicitly closed and may consume too much memory. (To control this warning, see the rcParam `figure.max_open_warning`).\n",
      "  max_open_warning, RuntimeWarning)\n",
      "/home/richard/anaconda3/lib/python3.6/site-packages/matplotlib/pyplot.py:514: RuntimeWarning: More than 20 figures have been opened. Figures created through the pyplot interface (`matplotlib.pyplot.figure`) are retained until explicitly closed and may consume too much memory. (To control this warning, see the rcParam `figure.max_open_warning`).\n",
      "  max_open_warning, RuntimeWarning)\n",
      "/home/richard/anaconda3/lib/python3.6/site-packages/matplotlib/pyplot.py:514: RuntimeWarning: More than 20 figures have been opened. Figures created through the pyplot interface (`matplotlib.pyplot.figure`) are retained until explicitly closed and may consume too much memory. (To control this warning, see the rcParam `figure.max_open_warning`).\n",
      "  max_open_warning, RuntimeWarning)\n",
      "/home/richard/anaconda3/lib/python3.6/site-packages/matplotlib/pyplot.py:514: RuntimeWarning: More than 20 figures have been opened. Figures created through the pyplot interface (`matplotlib.pyplot.figure`) are retained until explicitly closed and may consume too much memory. (To control this warning, see the rcParam `figure.max_open_warning`).\n",
      "  max_open_warning, RuntimeWarning)\n",
      "/home/richard/anaconda3/lib/python3.6/site-packages/matplotlib/pyplot.py:514: RuntimeWarning: More than 20 figures have been opened. Figures created through the pyplot interface (`matplotlib.pyplot.figure`) are retained until explicitly closed and may consume too much memory. (To control this warning, see the rcParam `figure.max_open_warning`).\n",
      "  max_open_warning, RuntimeWarning)\n",
      "/home/richard/anaconda3/lib/python3.6/site-packages/matplotlib/pyplot.py:514: RuntimeWarning: More than 20 figures have been opened. Figures created through the pyplot interface (`matplotlib.pyplot.figure`) are retained until explicitly closed and may consume too much memory. (To control this warning, see the rcParam `figure.max_open_warning`).\n",
      "  max_open_warning, RuntimeWarning)\n",
      "/home/richard/anaconda3/lib/python3.6/site-packages/matplotlib/pyplot.py:514: RuntimeWarning: More than 20 figures have been opened. Figures created through the pyplot interface (`matplotlib.pyplot.figure`) are retained until explicitly closed and may consume too much memory. (To control this warning, see the rcParam `figure.max_open_warning`).\n",
      "  max_open_warning, RuntimeWarning)\n",
      "/home/richard/anaconda3/lib/python3.6/site-packages/matplotlib/pyplot.py:514: RuntimeWarning: More than 20 figures have been opened. Figures created through the pyplot interface (`matplotlib.pyplot.figure`) are retained until explicitly closed and may consume too much memory. (To control this warning, see the rcParam `figure.max_open_warning`).\n",
      "  max_open_warning, RuntimeWarning)\n",
      "/home/richard/anaconda3/lib/python3.6/site-packages/matplotlib/pyplot.py:514: RuntimeWarning: More than 20 figures have been opened. Figures created through the pyplot interface (`matplotlib.pyplot.figure`) are retained until explicitly closed and may consume too much memory. (To control this warning, see the rcParam `figure.max_open_warning`).\n",
      "  max_open_warning, RuntimeWarning)\n",
      "/home/richard/anaconda3/lib/python3.6/site-packages/matplotlib/pyplot.py:514: RuntimeWarning: More than 20 figures have been opened. Figures created through the pyplot interface (`matplotlib.pyplot.figure`) are retained until explicitly closed and may consume too much memory. (To control this warning, see the rcParam `figure.max_open_warning`).\n",
      "  max_open_warning, RuntimeWarning)\n",
      "/home/richard/anaconda3/lib/python3.6/site-packages/matplotlib/pyplot.py:514: RuntimeWarning: More than 20 figures have been opened. Figures created through the pyplot interface (`matplotlib.pyplot.figure`) are retained until explicitly closed and may consume too much memory. (To control this warning, see the rcParam `figure.max_open_warning`).\n",
      "  max_open_warning, RuntimeWarning)\n",
      "/home/richard/anaconda3/lib/python3.6/site-packages/matplotlib/pyplot.py:514: RuntimeWarning: More than 20 figures have been opened. Figures created through the pyplot interface (`matplotlib.pyplot.figure`) are retained until explicitly closed and may consume too much memory. (To control this warning, see the rcParam `figure.max_open_warning`).\n",
      "  max_open_warning, RuntimeWarning)\n",
      "/home/richard/anaconda3/lib/python3.6/site-packages/matplotlib/pyplot.py:514: RuntimeWarning: More than 20 figures have been opened. Figures created through the pyplot interface (`matplotlib.pyplot.figure`) are retained until explicitly closed and may consume too much memory. (To control this warning, see the rcParam `figure.max_open_warning`).\n",
      "  max_open_warning, RuntimeWarning)\n",
      "/home/richard/anaconda3/lib/python3.6/site-packages/matplotlib/pyplot.py:514: RuntimeWarning: More than 20 figures have been opened. Figures created through the pyplot interface (`matplotlib.pyplot.figure`) are retained until explicitly closed and may consume too much memory. (To control this warning, see the rcParam `figure.max_open_warning`).\n",
      "  max_open_warning, RuntimeWarning)\n",
      "/home/richard/anaconda3/lib/python3.6/site-packages/matplotlib/pyplot.py:514: RuntimeWarning: More than 20 figures have been opened. Figures created through the pyplot interface (`matplotlib.pyplot.figure`) are retained until explicitly closed and may consume too much memory. (To control this warning, see the rcParam `figure.max_open_warning`).\n",
      "  max_open_warning, RuntimeWarning)\n",
      "/home/richard/anaconda3/lib/python3.6/site-packages/matplotlib/pyplot.py:514: RuntimeWarning: More than 20 figures have been opened. Figures created through the pyplot interface (`matplotlib.pyplot.figure`) are retained until explicitly closed and may consume too much memory. (To control this warning, see the rcParam `figure.max_open_warning`).\n",
      "  max_open_warning, RuntimeWarning)\n",
      "/home/richard/anaconda3/lib/python3.6/site-packages/matplotlib/pyplot.py:514: RuntimeWarning: More than 20 figures have been opened. Figures created through the pyplot interface (`matplotlib.pyplot.figure`) are retained until explicitly closed and may consume too much memory. (To control this warning, see the rcParam `figure.max_open_warning`).\n",
      "  max_open_warning, RuntimeWarning)\n",
      "/home/richard/anaconda3/lib/python3.6/site-packages/matplotlib/pyplot.py:514: RuntimeWarning: More than 20 figures have been opened. Figures created through the pyplot interface (`matplotlib.pyplot.figure`) are retained until explicitly closed and may consume too much memory. (To control this warning, see the rcParam `figure.max_open_warning`).\n",
      "  max_open_warning, RuntimeWarning)\n",
      "/home/richard/anaconda3/lib/python3.6/site-packages/matplotlib/pyplot.py:514: RuntimeWarning: More than 20 figures have been opened. Figures created through the pyplot interface (`matplotlib.pyplot.figure`) are retained until explicitly closed and may consume too much memory. (To control this warning, see the rcParam `figure.max_open_warning`).\n",
      "  max_open_warning, RuntimeWarning)\n",
      "/home/richard/anaconda3/lib/python3.6/site-packages/matplotlib/pyplot.py:514: RuntimeWarning: More than 20 figures have been opened. Figures created through the pyplot interface (`matplotlib.pyplot.figure`) are retained until explicitly closed and may consume too much memory. (To control this warning, see the rcParam `figure.max_open_warning`).\n",
      "  max_open_warning, RuntimeWarning)\n",
      "/home/richard/anaconda3/lib/python3.6/site-packages/matplotlib/pyplot.py:514: RuntimeWarning: More than 20 figures have been opened. Figures created through the pyplot interface (`matplotlib.pyplot.figure`) are retained until explicitly closed and may consume too much memory. (To control this warning, see the rcParam `figure.max_open_warning`).\n",
      "  max_open_warning, RuntimeWarning)\n"
     ]
    },
    {
     "name": "stderr",
     "output_type": "stream",
     "text": [
      "/home/richard/anaconda3/lib/python3.6/site-packages/matplotlib/pyplot.py:514: RuntimeWarning: More than 20 figures have been opened. Figures created through the pyplot interface (`matplotlib.pyplot.figure`) are retained until explicitly closed and may consume too much memory. (To control this warning, see the rcParam `figure.max_open_warning`).\n",
      "  max_open_warning, RuntimeWarning)\n",
      "/home/richard/anaconda3/lib/python3.6/site-packages/matplotlib/pyplot.py:514: RuntimeWarning: More than 20 figures have been opened. Figures created through the pyplot interface (`matplotlib.pyplot.figure`) are retained until explicitly closed and may consume too much memory. (To control this warning, see the rcParam `figure.max_open_warning`).\n",
      "  max_open_warning, RuntimeWarning)\n",
      "/home/richard/anaconda3/lib/python3.6/site-packages/matplotlib/pyplot.py:514: RuntimeWarning: More than 20 figures have been opened. Figures created through the pyplot interface (`matplotlib.pyplot.figure`) are retained until explicitly closed and may consume too much memory. (To control this warning, see the rcParam `figure.max_open_warning`).\n",
      "  max_open_warning, RuntimeWarning)\n",
      "/home/richard/anaconda3/lib/python3.6/site-packages/matplotlib/pyplot.py:514: RuntimeWarning: More than 20 figures have been opened. Figures created through the pyplot interface (`matplotlib.pyplot.figure`) are retained until explicitly closed and may consume too much memory. (To control this warning, see the rcParam `figure.max_open_warning`).\n",
      "  max_open_warning, RuntimeWarning)\n",
      "/home/richard/anaconda3/lib/python3.6/site-packages/matplotlib/pyplot.py:514: RuntimeWarning: More than 20 figures have been opened. Figures created through the pyplot interface (`matplotlib.pyplot.figure`) are retained until explicitly closed and may consume too much memory. (To control this warning, see the rcParam `figure.max_open_warning`).\n",
      "  max_open_warning, RuntimeWarning)\n",
      "/home/richard/anaconda3/lib/python3.6/site-packages/matplotlib/pyplot.py:514: RuntimeWarning: More than 20 figures have been opened. Figures created through the pyplot interface (`matplotlib.pyplot.figure`) are retained until explicitly closed and may consume too much memory. (To control this warning, see the rcParam `figure.max_open_warning`).\n",
      "  max_open_warning, RuntimeWarning)\n",
      "/home/richard/anaconda3/lib/python3.6/site-packages/matplotlib/pyplot.py:514: RuntimeWarning: More than 20 figures have been opened. Figures created through the pyplot interface (`matplotlib.pyplot.figure`) are retained until explicitly closed and may consume too much memory. (To control this warning, see the rcParam `figure.max_open_warning`).\n",
      "  max_open_warning, RuntimeWarning)\n"
     ]
    },
    {
     "data": {
      "text/plain": [
       "<Figure size 864x720 with 0 Axes>"
      ]
     },
     "metadata": {},
     "output_type": "display_data"
    },
    {
     "data": {
      "text/plain": [
       "<Figure size 864x720 with 0 Axes>"
      ]
     },
     "metadata": {},
     "output_type": "display_data"
    },
    {
     "data": {
      "text/plain": [
       "<Figure size 1152x270 with 0 Axes>"
      ]
     },
     "metadata": {},
     "output_type": "display_data"
    },
    {
     "data": {
      "text/plain": [
       "<Figure size 864x720 with 0 Axes>"
      ]
     },
     "metadata": {},
     "output_type": "display_data"
    },
    {
     "data": {
      "text/plain": [
       "<Figure size 864x720 with 0 Axes>"
      ]
     },
     "metadata": {},
     "output_type": "display_data"
    },
    {
     "data": {
      "text/plain": [
       "<Figure size 1152x270 with 0 Axes>"
      ]
     },
     "metadata": {},
     "output_type": "display_data"
    },
    {
     "data": {
      "text/plain": [
       "<Figure size 864x720 with 0 Axes>"
      ]
     },
     "metadata": {},
     "output_type": "display_data"
    },
    {
     "data": {
      "text/plain": [
       "<Figure size 864x720 with 0 Axes>"
      ]
     },
     "metadata": {},
     "output_type": "display_data"
    },
    {
     "data": {
      "text/plain": [
       "<Figure size 1152x270 with 0 Axes>"
      ]
     },
     "metadata": {},
     "output_type": "display_data"
    },
    {
     "data": {
      "text/plain": [
       "<Figure size 864x720 with 0 Axes>"
      ]
     },
     "metadata": {},
     "output_type": "display_data"
    },
    {
     "data": {
      "text/plain": [
       "<Figure size 864x720 with 0 Axes>"
      ]
     },
     "metadata": {},
     "output_type": "display_data"
    },
    {
     "data": {
      "text/plain": [
       "<Figure size 1152x270 with 0 Axes>"
      ]
     },
     "metadata": {},
     "output_type": "display_data"
    },
    {
     "data": {
      "text/plain": [
       "<Figure size 864x720 with 0 Axes>"
      ]
     },
     "metadata": {},
     "output_type": "display_data"
    },
    {
     "data": {
      "text/plain": [
       "<Figure size 864x720 with 0 Axes>"
      ]
     },
     "metadata": {},
     "output_type": "display_data"
    },
    {
     "data": {
      "text/plain": [
       "<Figure size 1152x270 with 0 Axes>"
      ]
     },
     "metadata": {},
     "output_type": "display_data"
    },
    {
     "data": {
      "text/plain": [
       "<Figure size 864x720 with 0 Axes>"
      ]
     },
     "metadata": {},
     "output_type": "display_data"
    },
    {
     "data": {
      "text/plain": [
       "<Figure size 864x720 with 0 Axes>"
      ]
     },
     "metadata": {},
     "output_type": "display_data"
    },
    {
     "data": {
      "text/plain": [
       "<Figure size 1152x270 with 0 Axes>"
      ]
     },
     "metadata": {},
     "output_type": "display_data"
    },
    {
     "data": {
      "text/plain": [
       "<Figure size 864x720 with 0 Axes>"
      ]
     },
     "metadata": {},
     "output_type": "display_data"
    },
    {
     "data": {
      "text/plain": [
       "<Figure size 864x720 with 0 Axes>"
      ]
     },
     "metadata": {},
     "output_type": "display_data"
    },
    {
     "data": {
      "text/plain": [
       "<Figure size 1152x270 with 0 Axes>"
      ]
     },
     "metadata": {},
     "output_type": "display_data"
    },
    {
     "data": {
      "text/plain": [
       "<Figure size 864x720 with 0 Axes>"
      ]
     },
     "metadata": {},
     "output_type": "display_data"
    },
    {
     "data": {
      "text/plain": [
       "<Figure size 864x720 with 0 Axes>"
      ]
     },
     "metadata": {},
     "output_type": "display_data"
    },
    {
     "data": {
      "text/plain": [
       "<Figure size 1152x270 with 0 Axes>"
      ]
     },
     "metadata": {},
     "output_type": "display_data"
    },
    {
     "data": {
      "text/plain": [
       "<Figure size 864x720 with 0 Axes>"
      ]
     },
     "metadata": {},
     "output_type": "display_data"
    },
    {
     "data": {
      "text/plain": [
       "<Figure size 864x720 with 0 Axes>"
      ]
     },
     "metadata": {},
     "output_type": "display_data"
    },
    {
     "data": {
      "text/plain": [
       "<Figure size 1152x270 with 0 Axes>"
      ]
     },
     "metadata": {},
     "output_type": "display_data"
    },
    {
     "data": {
      "text/plain": [
       "<Figure size 864x720 with 0 Axes>"
      ]
     },
     "metadata": {},
     "output_type": "display_data"
    },
    {
     "data": {
      "text/plain": [
       "<Figure size 864x720 with 0 Axes>"
      ]
     },
     "metadata": {},
     "output_type": "display_data"
    },
    {
     "data": {
      "text/plain": [
       "<Figure size 1152x270 with 0 Axes>"
      ]
     },
     "metadata": {},
     "output_type": "display_data"
    },
    {
     "data": {
      "text/plain": [
       "<Figure size 864x720 with 0 Axes>"
      ]
     },
     "metadata": {},
     "output_type": "display_data"
    },
    {
     "data": {
      "text/plain": [
       "<Figure size 864x720 with 0 Axes>"
      ]
     },
     "metadata": {},
     "output_type": "display_data"
    },
    {
     "data": {
      "text/plain": [
       "<Figure size 1152x270 with 0 Axes>"
      ]
     },
     "metadata": {},
     "output_type": "display_data"
    },
    {
     "data": {
      "text/plain": [
       "<Figure size 864x720 with 0 Axes>"
      ]
     },
     "metadata": {},
     "output_type": "display_data"
    },
    {
     "data": {
      "text/plain": [
       "<Figure size 864x720 with 0 Axes>"
      ]
     },
     "metadata": {},
     "output_type": "display_data"
    },
    {
     "data": {
      "text/plain": [
       "<Figure size 1152x270 with 0 Axes>"
      ]
     },
     "metadata": {},
     "output_type": "display_data"
    },
    {
     "data": {
      "text/plain": [
       "<Figure size 864x720 with 0 Axes>"
      ]
     },
     "metadata": {},
     "output_type": "display_data"
    },
    {
     "data": {
      "text/plain": [
       "<Figure size 864x720 with 0 Axes>"
      ]
     },
     "metadata": {},
     "output_type": "display_data"
    },
    {
     "data": {
      "text/plain": [
       "<Figure size 1152x270 with 0 Axes>"
      ]
     },
     "metadata": {},
     "output_type": "display_data"
    },
    {
     "data": {
      "text/plain": [
       "<Figure size 864x720 with 0 Axes>"
      ]
     },
     "metadata": {},
     "output_type": "display_data"
    },
    {
     "data": {
      "text/plain": [
       "<Figure size 864x720 with 0 Axes>"
      ]
     },
     "metadata": {},
     "output_type": "display_data"
    },
    {
     "data": {
      "text/plain": [
       "<Figure size 1152x270 with 0 Axes>"
      ]
     },
     "metadata": {},
     "output_type": "display_data"
    },
    {
     "data": {
      "text/plain": [
       "<Figure size 864x720 with 0 Axes>"
      ]
     },
     "metadata": {},
     "output_type": "display_data"
    },
    {
     "data": {
      "text/plain": [
       "<Figure size 864x720 with 0 Axes>"
      ]
     },
     "metadata": {},
     "output_type": "display_data"
    },
    {
     "data": {
      "text/plain": [
       "<Figure size 1152x270 with 0 Axes>"
      ]
     },
     "metadata": {},
     "output_type": "display_data"
    },
    {
     "data": {
      "text/plain": [
       "<Figure size 864x720 with 0 Axes>"
      ]
     },
     "metadata": {},
     "output_type": "display_data"
    },
    {
     "data": {
      "text/plain": [
       "<Figure size 864x720 with 0 Axes>"
      ]
     },
     "metadata": {},
     "output_type": "display_data"
    },
    {
     "data": {
      "text/plain": [
       "<Figure size 1152x270 with 0 Axes>"
      ]
     },
     "metadata": {},
     "output_type": "display_data"
    },
    {
     "data": {
      "text/plain": [
       "<Figure size 864x720 with 0 Axes>"
      ]
     },
     "metadata": {},
     "output_type": "display_data"
    },
    {
     "data": {
      "text/plain": [
       "<Figure size 864x720 with 0 Axes>"
      ]
     },
     "metadata": {},
     "output_type": "display_data"
    },
    {
     "data": {
      "text/plain": [
       "<Figure size 1152x270 with 0 Axes>"
      ]
     },
     "metadata": {},
     "output_type": "display_data"
    },
    {
     "data": {
      "text/plain": [
       "<Figure size 864x720 with 0 Axes>"
      ]
     },
     "metadata": {},
     "output_type": "display_data"
    },
    {
     "data": {
      "text/plain": [
       "<Figure size 864x720 with 0 Axes>"
      ]
     },
     "metadata": {},
     "output_type": "display_data"
    },
    {
     "data": {
      "text/plain": [
       "<Figure size 1152x270 with 0 Axes>"
      ]
     },
     "metadata": {},
     "output_type": "display_data"
    },
    {
     "data": {
      "text/plain": [
       "<Figure size 864x720 with 0 Axes>"
      ]
     },
     "metadata": {},
     "output_type": "display_data"
    },
    {
     "data": {
      "text/plain": [
       "<Figure size 864x720 with 0 Axes>"
      ]
     },
     "metadata": {},
     "output_type": "display_data"
    },
    {
     "data": {
      "text/plain": [
       "<Figure size 1152x270 with 0 Axes>"
      ]
     },
     "metadata": {},
     "output_type": "display_data"
    },
    {
     "data": {
      "text/plain": [
       "<Figure size 864x720 with 0 Axes>"
      ]
     },
     "metadata": {},
     "output_type": "display_data"
    },
    {
     "data": {
      "text/plain": [
       "<Figure size 864x720 with 0 Axes>"
      ]
     },
     "metadata": {},
     "output_type": "display_data"
    },
    {
     "data": {
      "text/plain": [
       "<Figure size 1152x270 with 0 Axes>"
      ]
     },
     "metadata": {},
     "output_type": "display_data"
    },
    {
     "data": {
      "text/plain": [
       "<Figure size 864x720 with 0 Axes>"
      ]
     },
     "metadata": {},
     "output_type": "display_data"
    },
    {
     "data": {
      "text/plain": [
       "<Figure size 864x720 with 0 Axes>"
      ]
     },
     "metadata": {},
     "output_type": "display_data"
    },
    {
     "data": {
      "text/plain": [
       "<Figure size 1152x270 with 0 Axes>"
      ]
     },
     "metadata": {},
     "output_type": "display_data"
    },
    {
     "data": {
      "text/plain": [
       "<Figure size 864x720 with 0 Axes>"
      ]
     },
     "metadata": {},
     "output_type": "display_data"
    },
    {
     "data": {
      "text/plain": [
       "<Figure size 864x720 with 0 Axes>"
      ]
     },
     "metadata": {},
     "output_type": "display_data"
    },
    {
     "data": {
      "text/plain": [
       "<Figure size 1152x270 with 0 Axes>"
      ]
     },
     "metadata": {},
     "output_type": "display_data"
    },
    {
     "data": {
      "text/plain": [
       "<Figure size 864x720 with 0 Axes>"
      ]
     },
     "metadata": {},
     "output_type": "display_data"
    },
    {
     "data": {
      "text/plain": [
       "<Figure size 864x720 with 0 Axes>"
      ]
     },
     "metadata": {},
     "output_type": "display_data"
    },
    {
     "data": {
      "text/plain": [
       "<Figure size 1152x270 with 0 Axes>"
      ]
     },
     "metadata": {},
     "output_type": "display_data"
    },
    {
     "data": {
      "text/plain": [
       "<Figure size 864x720 with 0 Axes>"
      ]
     },
     "metadata": {},
     "output_type": "display_data"
    },
    {
     "data": {
      "text/plain": [
       "<Figure size 864x720 with 0 Axes>"
      ]
     },
     "metadata": {},
     "output_type": "display_data"
    },
    {
     "data": {
      "text/plain": [
       "<Figure size 1152x270 with 0 Axes>"
      ]
     },
     "metadata": {},
     "output_type": "display_data"
    },
    {
     "data": {
      "text/plain": [
       "<Figure size 864x720 with 0 Axes>"
      ]
     },
     "metadata": {},
     "output_type": "display_data"
    },
    {
     "data": {
      "text/plain": [
       "<Figure size 864x720 with 0 Axes>"
      ]
     },
     "metadata": {},
     "output_type": "display_data"
    },
    {
     "data": {
      "text/plain": [
       "<Figure size 1152x270 with 0 Axes>"
      ]
     },
     "metadata": {},
     "output_type": "display_data"
    },
    {
     "data": {
      "text/plain": [
       "<Figure size 864x720 with 0 Axes>"
      ]
     },
     "metadata": {},
     "output_type": "display_data"
    },
    {
     "data": {
      "text/plain": [
       "<Figure size 864x720 with 0 Axes>"
      ]
     },
     "metadata": {},
     "output_type": "display_data"
    },
    {
     "data": {
      "text/plain": [
       "<Figure size 1152x270 with 0 Axes>"
      ]
     },
     "metadata": {},
     "output_type": "display_data"
    },
    {
     "data": {
      "text/plain": [
       "<Figure size 864x720 with 0 Axes>"
      ]
     },
     "metadata": {},
     "output_type": "display_data"
    },
    {
     "data": {
      "text/plain": [
       "<Figure size 864x720 with 0 Axes>"
      ]
     },
     "metadata": {},
     "output_type": "display_data"
    },
    {
     "data": {
      "text/plain": [
       "<Figure size 1152x270 with 0 Axes>"
      ]
     },
     "metadata": {},
     "output_type": "display_data"
    },
    {
     "data": {
      "text/plain": [
       "<Figure size 864x720 with 0 Axes>"
      ]
     },
     "metadata": {},
     "output_type": "display_data"
    },
    {
     "data": {
      "text/plain": [
       "<Figure size 864x720 with 0 Axes>"
      ]
     },
     "metadata": {},
     "output_type": "display_data"
    },
    {
     "data": {
      "text/plain": [
       "<Figure size 1152x270 with 0 Axes>"
      ]
     },
     "metadata": {},
     "output_type": "display_data"
    },
    {
     "data": {
      "text/plain": [
       "<Figure size 864x720 with 0 Axes>"
      ]
     },
     "metadata": {},
     "output_type": "display_data"
    },
    {
     "data": {
      "text/plain": [
       "<Figure size 864x720 with 0 Axes>"
      ]
     },
     "metadata": {},
     "output_type": "display_data"
    },
    {
     "data": {
      "text/plain": [
       "<Figure size 1152x270 with 0 Axes>"
      ]
     },
     "metadata": {},
     "output_type": "display_data"
    },
    {
     "data": {
      "text/plain": [
       "<Figure size 864x720 with 0 Axes>"
      ]
     },
     "metadata": {},
     "output_type": "display_data"
    },
    {
     "data": {
      "text/plain": [
       "<Figure size 864x720 with 0 Axes>"
      ]
     },
     "metadata": {},
     "output_type": "display_data"
    },
    {
     "data": {
      "text/plain": [
       "<Figure size 1152x270 with 0 Axes>"
      ]
     },
     "metadata": {},
     "output_type": "display_data"
    },
    {
     "data": {
      "text/plain": [
       "<Figure size 864x720 with 0 Axes>"
      ]
     },
     "metadata": {},
     "output_type": "display_data"
    },
    {
     "data": {
      "text/plain": [
       "<Figure size 864x720 with 0 Axes>"
      ]
     },
     "metadata": {},
     "output_type": "display_data"
    },
    {
     "data": {
      "text/plain": [
       "<Figure size 1152x270 with 0 Axes>"
      ]
     },
     "metadata": {},
     "output_type": "display_data"
    },
    {
     "data": {
      "text/plain": [
       "<Figure size 864x720 with 0 Axes>"
      ]
     },
     "metadata": {},
     "output_type": "display_data"
    },
    {
     "data": {
      "text/plain": [
       "<Figure size 864x720 with 0 Axes>"
      ]
     },
     "metadata": {},
     "output_type": "display_data"
    },
    {
     "data": {
      "text/plain": [
       "<Figure size 1152x270 with 0 Axes>"
      ]
     },
     "metadata": {},
     "output_type": "display_data"
    }
   ],
   "source": [
    "#make report for each participant\n",
    "\n",
    "file_length = len(datadicts)\n",
    "\n",
    "#define paths\n",
    "for file in range(file_length):\n",
    "    pid = datadicts[file]['pid']\n",
    "    fid = datadicts[file]['filename']\n",
    "    sid = datadicts[file]['ssvep']\n",
    "    path = ('results_ssvep/%s' %(pid))\n",
    "\n",
    "    if not os.path.exists(path):\n",
    "        os.makedirs(path)\n",
    "\n",
    "    power_mean = sid.stimulation.power.mean()\n",
    "    sid.harmonic.frequencies\n",
    "    sid.harmonic.power.shape\n",
    "    sid.stimulation.tfr.shape\n",
    "    \n",
    "    # Make plots   \n",
    "    sid.topoplot_psd(flims='harmonic', figsize=(12, 10))\n",
    "    plt.savefig('%s/topoplot_psd_%s.png' %(path, fid))\n",
    "    plt.clf()\n",
    "\n",
    "    sid.plot_psd()\n",
    "    plt.savefig('%s/plot_psd_%s.png' %(path, fid))\n",
    "    plt.clf()\n",
    "\n",
    "    sid.plot_snr()\n",
    "    plt.savefig('%s/plot_snr_%s.png' %(path, fid))\n",
    "    plt.clf()\n",
    "\n",
    "    sid.topoplot_snr(flims='harmonic', figsize=(12, 10))\n",
    "    plt.savefig('%s/topoplot_snr_%s.png' %(path, fid))\n",
    "    plt.clf()\n",
    "\n",
    "    # make table\n",
    "\n",
    "    df = datadicts[file]['Top Electrodes']\n",
    "    def render_mpl_table(data, col_width=3.0, row_height=0.625, font_size=14, rowLabels= df.index,\n",
    "                         header_color='#40466e', row_colors=['#f1f1f2', 'w'], edge_color='w',\n",
    "                         bbox=[0, 0, 1, 1], header_columns=0,\n",
    "                         ax=None, **kwargs):\n",
    "        if ax is None:\n",
    "            size = (np.array(data.shape[::-1]) + np.array([0, 1])) * np.array([col_width, row_height])\n",
    "            fig, ax = plt.subplots(figsize=size)\n",
    "            ax.axis('off')\n",
    "\n",
    "        mpl_table = ax.table(cellText=data.values, bbox=bbox, colLabels=data.columns, rowLabels=data.index, **kwargs)\n",
    "\n",
    "        mpl_table.auto_set_font_size(False)\n",
    "        mpl_table.set_fontsize(font_size)\n",
    "\n",
    "        for k, cell in six.iteritems(mpl_table._cells):\n",
    "            cell.set_edgecolor(edge_color)\n",
    "            if k[0] == 0 or k[1] < header_columns:\n",
    "                cell.set_text_props(weight='bold', color='w')\n",
    "                cell.set_facecolor(header_color)\n",
    "            else:\n",
    "                cell.set_facecolor(row_colors[k[0]%len(row_colors) ])\n",
    "        return ax\n",
    "\n",
    "\n",
    "    render_mpl_table(df, col_width=4.0)\n",
    "    plt.savefig('%s/Top_Electrodes_%s.png' %(path, fid))\n",
    "    plt.clf()\n",
    "\n",
    "    from fpdf import FPDF\n",
    "    pdf = FPDF()\n",
    "    # figlist = [, '%s/topoplot_psd_%s.png' %(path, fid),  ]\n",
    "    # imagelist is the list with all image filenames\n",
    "\n",
    "    #print report\n",
    "    titlelist = ['SNR plot', 'PSD plot', 'SNR topoplot', 'PSD topoplot', 'Top Electrodes']\n",
    "    t = 0\n",
    "    pdf.add_page()\n",
    "    \n",
    "    #add plots\n",
    "    pdf.image('%s/plot_snr_%s.png' %(path, fid), 0 ,20, 0, 90 )\n",
    "    pdf.image('%s/plot_psd_%s.png' %(path, fid), 100 ,20, 0, 90 )\n",
    "    pdf.image('%s/topoplot_snr_%s.png' %(path, fid), 0 ,120, 0, 100 )\n",
    "    pdf.image('%s/topoplot_psd_%s.png' %(path, fid), 100 ,120, 0, 100 )\n",
    "    pdf.image('%s/Top_Electrodes_%s.png' %(path, fid), -10 , 230 , 200 ,0)\n",
    "    \n",
    "    # add titles\n",
    "    pdf.set_font('courier')\n",
    "    pdf.write(5, titlelist[0])\n",
    "    for space in range(6):\n",
    "        pdf.write(5, '     ')\n",
    "    pdf.write(5, titlelist[1])\n",
    "    for space in range(20):\n",
    "        pdf.write(5, '\\n')\n",
    "    pdf.write(5, titlelist[2]) \n",
    "    for space in range(5):\n",
    "        pdf.write(5, '     ')\n",
    "    pdf.write(5, titlelist[3])\n",
    "    for space in range(22):\n",
    "        pdf.write(5, '\\n')\n",
    "    pdf.write(5, titlelist[4])\n",
    "\n",
    "    #Save pdf\n",
    "    pdf.output(\"%s/report_%s.pdf\" %(path, fid), \"F\") "
   ]
  },
  {
   "cell_type": "code",
   "execution_count": null,
   "metadata": {},
   "outputs": [],
   "source": []
  }
 ],
 "metadata": {
  "kernelspec": {
   "display_name": "Python 3",
   "language": "python",
   "name": "python3"
  },
  "language_info": {
   "codemirror_mode": {
    "name": "ipython",
    "version": 3
   },
   "file_extension": ".py",
   "mimetype": "text/x-python",
   "name": "python",
   "nbconvert_exporter": "python",
   "pygments_lexer": "ipython3",
   "version": "3.6.5"
  }
 },
 "nbformat": 4,
 "nbformat_minor": 2
}
